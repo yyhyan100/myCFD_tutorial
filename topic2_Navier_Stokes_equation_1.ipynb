{
 "cells": [
  {
   "cell_type": "markdown",
   "metadata": {},
   "source": [
    "# Navier-Stokes equation\n",
    "\n",
    "## 1.Conservation of Mass\n",
    "\n",
    "### In a closed system, the total mass does not change with time, mass is conserved. <br>\n",
    "\n",
    "$$ \\frac{d}{dt} \\iiint_V \\rho dV = 0 $$\n",
    "\n",
    "$$ = \\iiint_V \\frac{\\partial p}{\\partial t} dV + \\iiint_V \\nabla (\\rho \\vec{v}) $$ \n",
    "$$ = \\iiint_V (\\frac{\\partial p}{\\partial t} + \\nabla (\\rho \\vec{v})) dV $$\n",
    "\n",
    "### PDE for imcompressible fluids：\n",
    "\n",
    "$$ \\nabla \\vec{v} = 0 $$ \n",
    "\n",
    "### for imcompressible fluids\n",
    "\n",
    "$$ \\frac{d\\rho}{dt}=0 \\Rightarrow \\rho \\nabla \\vec{v} = 0 \\Rightarrow  \\nabla \\vec{v} = 0 $$\n",
    "\n",
    "## 2.Conservation of Momentum\n",
    "\n",
    "$$ \\frac{d}{dt} \\iiint_V \\rho \\vec{v} dV = \\sum forces $$\n",
    "\n",
    " ### The forces consists of two parts: volume force and surface force .\n",
    "\n",
    "### volume force:\n",
    "\n",
    "$$ \\iiint_V \\rho \\,f dV $$ \n",
    "\n",
    "### the distribution of mass force :\n",
    "\n",
    "$$ f = f(x, y, z, t) $$\n",
    "\n",
    "### surface force:\n",
    "\n",
    "$$ \\oint\\oint_S \\vec{n} \\sigma dS = \\iiint_V \\nabla \\sigma dV $$\n",
    "\n",
    "### Final equation for the conservation of momentum :\n",
    "\n",
    "$$ \\frac{d}{dt} \\iiint_V \\rho \\vec{v} dV = \\iiint_V \\rho f dV + \\iiint_V \\nabla \\sigma dV $$\n",
    "\n",
    "## Conservation of energy:\n",
    "\n",
    "$$ \\frac{dE}{dt} = \\vec{F} \\vec{v} $$\n",
    "\n",
    "$$ \\frac{d}{dt} \\iiint_V [e +\\frac{1}{2}\\rho \\vec{v}^2]dV $$ \n",
    "\n",
    "$$ = \\iiint_V \\vec{f} \\vec{v}dV + \\oint\\oint_S \\sigma \\vec{n} \\vec{v} dS $$ \n",
    "\n",
    "$$ = \\iiint_V \\vec{f} \\vec{v}dV + \\iiint_V \\nabla·(\\sigma·\\vec{v})dV $$\n"
   ]
  }
 ],
 "metadata": {
  "language_info": {
   "name": "python"
  },
  "orig_nbformat": 4
 },
 "nbformat": 4,
 "nbformat_minor": 2
}
