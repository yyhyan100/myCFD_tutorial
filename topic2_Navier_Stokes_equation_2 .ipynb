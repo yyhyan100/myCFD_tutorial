{
 "cells": [
  {
   "cell_type": "markdown",
   "metadata": {},
   "source": [
    "# Navier-Stokes equation"
   ]
  },
  {
   "cell_type": "markdown",
   "metadata": {},
   "source": [
    "## 1.Conservation of Mass\n",
    "\n",
    "$$ \\frac {\\partial \\rho}{\\partial t} + \\nabla·（\\rho \\vec{v}) = 0 $$\n",
    "\n",
    ">  * $$ \\frac{\\partial \\rho}{\\partial t} + \\frac{\\partial \\rho u}{\\partial x} +\\frac{\\partial \\rho v}{\\partial y} + \\frac{\\partial \\rho w}{\\partial z} = 0 $$\n",
    " <hr>"
   ]
  },
  {
   "cell_type": "markdown",
   "metadata": {},
   "source": [
    "## 2.Conservation of Momentum\n",
    "\n",
    "$$ \\frac{\\partial \\rho \\vec{v}}{\\partial t} + \\nabla· (\\rho\\vec{v}\\vec{v}) = \\rho\\vec{f} + \\nabla·\\sigma $$\n",
    "\n",
    " => $$ \\frac{\\partial \\rho \\vec{v}}{\\partial t} + \\nabla· (\\rho\\vec{v}\\vec{v}) = \\rho\\vec{f} - \\nabla p + \\nabla · \\tau $$\n",
    "\n",
    "\n"
   ]
  },
  {
   "cell_type": "markdown",
   "metadata": {},
   "source": [
    "Analysis in the u direction：\n",
    "$$ \\frac{\\partial \\rho u}{\\partial t} + \\frac{\\partial \\rho u u}{\\partial x} + \\frac{\\partial \\rho v u}{\\partial y} + \\frac{\\partial \\rho w u}{\\partial z} = \\rho f_x - \\frac{\\partial p}{\\partial x} + \\frac{\\partial z_{11}}{\\partial x} + \\frac{\\partial z_{21}}{\\partial y} +\\frac{\\partial z_{31}}{\\partial z}$$"
   ]
  },
  {
   "cell_type": "markdown",
   "metadata": {},
   "source": [
    ">  No body focus is simplified as follows："
   ]
  },
  {
   "cell_type": "markdown",
   "metadata": {},
   "source": [
    "* In the u direction: $$ \\frac{\\partial \\rho u}{\\partial t} + \\frac{\\partial}{\\partial x} (\\rho u^2 + p) + \\frac{\\partial \\rho v u}{\\partial y} + \\frac{\\partial \\rho w u}{\\partial z} = \\frac{\\partial z_{11}}{\\partial x} + \\frac{\\partial z_{21}}{\\partial y} +\\frac{\\partial z_{31}}{\\partial z}$$\n",
    "\n",
    "* In the v direction: $$ \\frac{\\partial \\rho v}{\\partial t} + \\frac{\\partial \\rho u v}{\\partial x} + \\frac{\\partial }{\\partial y}(\\rho v^2 + p) + \\frac{\\partial \\rho w v}{\\partial z} = \\frac{\\partial z_{12}}{\\partial x} + \\frac{\\partial z_{22}}{\\partial y} +\\frac{\\partial z_{32}}{\\partial z}$$\n",
    "\n",
    "* In the w direction: $$ \\frac{\\partial \\rho w}{\\partial t} + \\frac{\\partial \\rho u w}{\\partial x}  + \\frac{\\partial \\rho v w}{\\partial y} + \\frac{\\partial}{\\partial z} (\\rho w^2 + p)= \\frac{\\partial z_{13}}{\\partial x} + \\frac{\\partial z_{23}}{\\partial y} +\\frac{\\partial z_{33}}{\\partial z}$$\n",
    "<hr>"
   ]
  },
  {
   "cell_type": "markdown",
   "metadata": {},
   "source": [
    "## 3.Conservation of Energy\n",
    "$$ \\frac{\\partial E}{\\partial t} + \\nabla·(E \\vec{v}) = \\nabla · (\\sigma · \\vec{v}) + \\nabla·(K \\nabla T)$$\n",
    "> $$\\sigma = -PI + 2 \\mu (S-\\frac{1}{3} \\nabla·\\vec{v}I) $$\n",
    "> $$ \\sigma = -PI + \\tau $$"
   ]
  },
  {
   "cell_type": "markdown",
   "metadata": {},
   "source": [
    " => $$ \\frac{\\partial E}{\\partial t} + \\nabla·(E \\vec{v}) = -\\nabla · ( P\\vec{v}) + \\nabla·(\\tau) + \\nabla·(K \\nabla T)$$\n"
   ]
  },
  {
   "cell_type": "markdown",
   "metadata": {},
   "source": [
    "> The expansion for each item is as follows:"
   ]
  },
  {
   "cell_type": "markdown",
   "metadata": {},
   "source": [
    "$$ \\frac{\\partial E}{\\partial t} + \\nabla·(E \\vec{v}) = \\frac{\\partial E}{\\partial t} + \\frac{\\partial E u}{\\partial x} + \\frac{\\partial E v}{\\partial y} + \\frac{\\partial E w}{\\partial z} $$\n",
    "\n",
    "$$ -\\nabla · ( P\\vec{v}) = - \\frac{\\partial P u}{\\partial x} - \\frac{\\partial P v}{\\partial y} - \\frac{\\partial P w}{\\partial z} $$\n",
    "\n",
    "$$ \\nabla·(\\tau) =  \\frac{\\partial}{\\partial x}(\\tau_{11} u + \\tau_{12} v + \\tau_{13} w) + \\frac{\\partial}{\\partial y}(\\tau_{21} u + \\tau_{22} v + \\tau_{23} w) + \\frac{\\partial}{\\partial z}(\\tau_{31} u + \\tau_{32} v + \\tau_{33} w)$$\n",
    "\n",
    "$$ \\nabla·(K \\nabla T) =  \\frac{\\partial}{\\partial x} (K\\frac{\\partial T}{\\partial x}) + \\frac{\\partial}{\\partial y} (K\\frac{\\partial T}{\\partial y}) + \\frac{\\partial}{\\partial z} (K\\frac{\\partial T}{\\partial z})$$\n",
    "\n"
   ]
  },
  {
   "cell_type": "markdown",
   "metadata": {},
   "source": [
    "> Combine the above formulas：\n",
    "$$ \\frac{\\partial E}{\\partial t} + \\frac{\\partial E u}{\\partial x} + \\frac{\\partial E v}{\\partial y} + \\frac{\\partial E w}{\\partial z} = - \\frac{\\partial P u}{\\partial x} - \\frac{\\partial P v}{\\partial y} - \\frac{\\partial P w}{\\partial z} + \\frac{\\partial}{\\partial x}(\\tau_{11} u + \\tau_{12} v + \\tau_{13} w) + \\frac{\\partial}{\\partial y}(\\tau_{21} u + \\tau_{22} v + \\tau_{23} w) + \\frac{\\partial}{\\partial z}(\\tau_{31} u + \\tau_{32} v + \\tau_{33} w) $$\n",
    "$$ +\\frac{\\partial}{\\partial x} (K\\frac{\\partial T}{\\partial x}) + \\frac{\\partial}{\\partial y} (K\\frac{\\partial T}{\\partial y}) + \\frac{\\partial}{\\partial z} (K\\frac{\\partial T}{\\partial z})$$"
   ]
  },
  {
   "cell_type": "markdown",
   "metadata": {},
   "source": [
    "> Finally, the simplified formula is obtained："
   ]
  },
  {
   "cell_type": "markdown",
   "metadata": {},
   "source": [
    "* $$ \\frac{\\partial E}{\\partial t} + \\frac{\\partial}{\\partial x} [(E + P) u] + \\frac{\\partial}{\\partial y} [(E + P) v]+ \\frac{\\partial}{\\partial z} [(E + P) w] =  $$\n",
    "$$ \\frac{\\partial}{\\partial x}( K\\frac{\\partial T}{\\partial x} +\\tau_{11} u + \\tau_{12} v + \\tau_{13} w) + \\frac{\\partial}{\\partial y}(K\\frac{\\partial T}{\\partial y}+\\tau_{21} u + \\tau_{22} v + \\tau_{23} w) + \\frac{\\partial}{\\partial z}( K\\frac{\\partial T}{\\partial z}+\\tau_{31} u + \\tau_{32} v + \\tau_{33} w) $$"
   ]
  }
 ],
 "metadata": {
  "language_info": {
   "name": "python"
  }
 },
 "nbformat": 4,
 "nbformat_minor": 2
}
