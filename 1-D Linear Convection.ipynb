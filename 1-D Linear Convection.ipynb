{
 "cells": [
  {
   "cell_type": "markdown",
   "id": "e86bd176",
   "metadata": {},
   "source": [
    "# 1-D Linear Convection"
   ]
  },
  {
   "cell_type": "markdown",
   "id": "8615f7ba",
   "metadata": {},
   "source": [
    "### 1-D linear convection model and initial conditions\n",
    "\n",
    "The 1-D linear convection model is shown below.\n",
    "$$\\frac{\\partial u}{\\partial t} + c \\frac{\\partial u}{\\partial x} = 0$$\n",
    "\n",
    "With initial conditions being understood to be a wave, the equation shows the propagation of the initial wave with speed $c$, without any change to the shape of the wave. We will let the initial condition be $u(x,0)=u_0(x)$. The exact solution of the equation will then be $u(x,t)=u_0(x-ct)$.\n",
    "\n",
    "### Discretizing the equation\n",
    "\n",
    "The equation is then discretized in both time and space. \n",
    "\n",
    "Utilizing the forward difference scheme for the time derivative: \n",
    "\n",
    "$$\\frac{\\partial u}{\\partial t}\\approx \\frac{u(t+\\Delta t)-u(t)}{\\Delta t} = \\frac{u_i^{n+1}-u_i^n}{\\Delta t}$$\n",
    "\n",
    "The superscripts will denote the time steps and the subscripts will denote the points along the grid space. Likewise, the space derivative is discretized using a 2nd order central difference scheme:\n",
    "\n",
    "$$\\frac{\\partial u}{\\partial x}\\approx \\frac{u(x+\\Delta x)-u(x)}{\\Delta x} = \\frac{u_{i+1}^n - u_{i-1}^n}{2 \\Delta x}$$\n",
    "\n",
    "The discrete equation will therefore be:\n",
    "\n",
    "$$\\frac{u_i^{n+1}-u_i^n}{\\Delta t} + c \\frac{u_{i+1}^n - u_{i-1}^n}{2 \\Delta x} = 0 $$\n",
    "\n",
    "Because we know the initial conditions, the only unknown in this discretization is $u_i^{n+1}$. We can solve for this unknown to get an equation that allows us to advance in time:\n",
    "\n",
    "$$u_i^{n+1} = u_i^n - c \\frac{\\Delta t}{2 \\Delta x}(u_{i+1}^n-u_{i-1}^n)$$"
   ]
  },
  {
   "cell_type": "markdown",
   "id": "7bb78be7",
   "metadata": {},
   "source": [
    "### Import necessary libraries and utilities"
   ]
  },
  {
   "cell_type": "code",
   "execution_count": 4,
   "id": "fb1f5f32",
   "metadata": {},
   "outputs": [],
   "source": [
    "import numpy                    #load numpy\n",
    "from matplotlib import pyplot   #load matplotlib\n",
    "import time, sys                #Load some utilities to measure time\n",
    "\n",
    "#matplotlib plots will appear in the notebook not as a separate window\n",
    "%matplotlib inline"
   ]
  },
  {
   "cell_type": "markdown",
   "id": "b89ef45a",
   "metadata": {},
   "source": [
    "### Create the meshgrid and define variables"
   ]
  },
  {
   "cell_type": "code",
   "execution_count": null,
   "id": "3412145c",
   "metadata": {},
   "outputs": [],
   "source": []
  }
 ],
 "metadata": {
  "kernelspec": {
   "display_name": "Python 3 (ipykernel)",
   "language": "python",
   "name": "python3"
  },
  "language_info": {
   "codemirror_mode": {
    "name": "ipython",
    "version": 3
   },
   "file_extension": ".py",
   "mimetype": "text/x-python",
   "name": "python",
   "nbconvert_exporter": "python",
   "pygments_lexer": "ipython3",
   "version": "3.9.7"
  }
 },
 "nbformat": 4,
 "nbformat_minor": 5
}
