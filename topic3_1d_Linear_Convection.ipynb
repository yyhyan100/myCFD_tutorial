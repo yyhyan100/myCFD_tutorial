{
 "cells": [
  {
   "cell_type": "markdown",
   "id": "294904ea",
   "metadata": {},
   "source": [
    "# 1-D Linear Convection"
   ]
  },
  {
   "cell_type": "markdown",
   "id": "5e00264a",
   "metadata": {},
   "source": [
    "### 1-D linear convection model and initial conditions\n",
    "\n",
    "The 1-D linear convection model is shown below.\n",
    "$$\\frac{\\partial u}{\\partial t} + c \\frac{\\partial u}{\\partial x} = 0$$\n",
    "\n",
    "With initial conditions being understood to be a wave, the equation shows the propagation of the initial wave with speed $c$, without any change to the shape of the wave. We will let the initial condition be $u(x,0)=u_0(x)$. The exact solution of the equation will then be $u(x,t)=u_0(x-ct)$.\n",
    "\n",
    "### Discretizing the equation\n",
    "\n",
    "The equation is then discretized in both time and space. \n",
    "\n",
    "Utilizing the forward difference scheme for the time derivative: \n",
    "\n",
    "$$\\frac{\\partial u}{\\partial t}\\approx \\frac{u(t+\\Delta t)-u(t)}{\\Delta t} = \\frac{u_i^{n+1}-u_i^n}{\\Delta t}$$\n",
    "\n",
    "The superscripts will denote the time steps and the subscripts will denote the points along the grid space. Likewise, the space derivative is discretized using a 2nd order central difference scheme:\n",
    "\n",
    "$$\\frac{\\partial u}{\\partial x}\\approx \\frac{u(x+\\Delta x)-u(x)}{\\Delta x} = \\frac{u_{i+1}^n - u_{i-1}^n}{2 \\Delta x}$$\n",
    "\n",
    "The discrete equation will therefore be:\n",
    "\n",
    "$$\\frac{u_i^{n+1}-u_i^n}{\\Delta t} + c \\frac{u_{i+1}^n - u_{i-1}^n}{2 \\Delta x} = 0 $$\n",
    "\n",
    "Because we know the initial conditions, the only unknown in this discretization is $u_i^{n+1}$. We can solve for this unknown to get an equation that allows us to advance in time:\n",
    "\n",
    "$$u_i^{n+1} = u_i^n - c \\frac{\\Delta t}{2 \\Delta x}(u_{i+1}^n-u_{i-1}^n)$$"
   ]
  },
  {
   "cell_type": "markdown",
   "id": "586c5997",
   "metadata": {},
   "source": [
    "### Import necessary libraries and utilities"
   ]
  },
  {
   "cell_type": "code",
   "execution_count": 2,
   "id": "19e39eb0",
   "metadata": {},
   "outputs": [],
   "source": [
    "import numpy as np              #load numpy\n",
    "from matplotlib import pyplot   #load matplotlib\n",
    "import time, sys                #Load some utilities to measure time\n",
    "\n",
    "#matplotlib plots will appear in the notebook not as a separate window\n",
    "%matplotlib inline"
   ]
  },
  {
   "cell_type": "markdown",
   "id": "4471263d",
   "metadata": {},
   "source": [
    "### Create the meshgrid and define variables\n",
    "\n",
    "The spatial domain will be of length 2. The variable `nx` will be the number of equally-spaced grid points across the length that will create the meshgrid. The variable `dx` will be the distance between any pair of adjacent grid points.\n",
    "\n",
    "We will calculate 50 timesteps at a $\\Delta t = 0.025$ secs."
   ]
  },
  {
   "cell_type": "code",
   "execution_count": 3,
   "id": "271f6b5f",
   "metadata": {},
   "outputs": [],
   "source": [
    "nx = 41   #number of grid points\n",
    "dx = 2 / (nx-1)\n",
    "nt = 50    #number of timesteps we want to calculate\n",
    "dt = .025  #dt is the amount of time each timestep covers\n",
    "c = 1      #assume wavespeed of c = 1"
   ]
  },
  {
   "cell_type": "markdown",
   "id": "594a9983",
   "metadata": {},
   "source": [
    "### Set up initial conditions\n",
    "\n",
    "We also need to set up our initial conditions. The initial velocity $u_0$ is given as \n",
    "$u = 2$ in the interval $0.5 \\leq x \\leq 1$  and $u = 1$ everywhere else in $(0,2)$ (i.e., a hat function).\n",
    "\n",
    "Here, we use the function `ones()` defining a `numpy` array which is `nx` elements long with every value equal to 1."
   ]
  },
  {
   "cell_type": "code",
   "execution_count": 4,
   "id": "393965ed",
   "metadata": {},
   "outputs": [
    {
     "name": "stdout",
     "output_type": "stream",
     "text": [
      "[1. 1. 1. 1. 1. 1. 1. 1. 1. 1. 2. 2. 2. 2. 2. 2. 2. 2. 2. 2. 2. 1. 1. 1.\n",
      " 1. 1. 1. 1. 1. 1. 1. 1. 1. 1. 1. 1. 1. 1. 1. 1. 1.]\n"
     ]
    }
   ],
   "source": [
    "u = np.ones(nx)      #numpy function ones()\n",
    "#setting u = 2 between 0.5 and 1\n",
    "u[int(.5 / dx):int(1 / dx + 1)] = 2\n",
    "print(u)"
   ]
  },
  {
   "cell_type": "markdown",
   "id": "f85f9bf2",
   "metadata": {},
   "source": [
    "### Input wave function\n",
    "\n",
    "Now let's visualize our input wave function."
   ]
  },
  {
   "cell_type": "code",
   "execution_count": 6,
   "id": "d217e533",
   "metadata": {},
   "outputs": [
    {
     "data": {
      "image/png": "[encoded data removed]",
      "text/plain": [
       "<Figure size 432x288 with 1 Axes>"
      ]
     },
     "metadata": {
      "needs_background": "light"
     },
     "output_type": "display_data"
    }
   ],
   "source": [
    "pyplot.plot(numpy.linspace(0, 2, nx), u);"
   ]
  },
  {
   "cell_type": "markdown",
   "id": "ac2f7e5d",
   "metadata": {},
   "source": [
    "### Implement the discretization of the convection equation\n",
    "\n",
    "The equation will have to be performed on every element in the array `u`. The result of the operation will be stored in a temporary array `un`, which will be the solution $u$ for the next time-step. Then this will be repeated for all the required time steps.\n",
    "\n",
    "We will first initialize the temporary array `un` to hold the values we calculate for the $n+1$ timestep, using the numpy ones() function.\n",
    "\n",
    "Then we will use a nested loop to calculate for the change in space and time."
   ]
  },
  {
   "cell_type": "code",
   "execution_count": 6,
   "id": "522f5d9d",
   "metadata": {},
   "outputs": [],
   "source": [
    "un = np.ones(nx) #initialize a temporary array\n",
    "\n",
    "for n in range(nt):  #it will run nt times\n",
    "    un = u.copy()    ##copy the existing values of u into un\n",
    "    for i in range(1, nx-1): \n",
    "        u[i] = un[i] - c * dt / (2 * dx) * (un[i+1] - un[i-1])"
   ]
  },
  {
   "cell_type": "markdown",
   "id": "82aedc8e",
   "metadata": {},
   "source": [
    "### Results after advancing in time"
   ]
  },
  {
   "cell_type": "code",
   "execution_count": 8,
   "id": "87fbc2a5",
   "metadata": {},
   "outputs": [
    {
     "data": {
      "image/png": "[encoded data removed]",
      "text/plain": [
       "<Figure size 432x288 with 1 Axes>"
      ]
     },
     "metadata": {
      "needs_background": "light"
     },
     "output_type": "display_data"
    }
   ],
   "source": [
    "pyplot.plot(np.linspace(0, 2, nx), u);"
   ]
  },
  {
   "cell_type": "code",
   "execution_count": null,
   "id": "82623aaa",
   "metadata": {},
   "outputs": [],
   "source": []
  }
 ],
 "metadata": {
  "kernelspec": {
   "display_name": "Python 3 (ipykernel)",
   "language": "python",
   "name": "python3"
  },
  "language_info": {
   "codemirror_mode": {
    "name": "ipython",
    "version": 3
   },
   "file_extension": ".py",
   "mimetype": "text/x-python",
   "name": "python",
   "nbconvert_exporter": "python",
   "pygments_lexer": "ipython3",
   "version": "3.9.7"
  }
 },
 "nbformat": 4,
 "nbformat_minor": 5
}
