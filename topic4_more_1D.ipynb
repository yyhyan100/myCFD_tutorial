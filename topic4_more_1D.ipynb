{
 "cells": [
  {
   "cell_type": "markdown",
   "metadata": {},
   "source": [
    "## topic4: more on 1D equations\n",
    "\n",
    "1. diffusion equation\n",
    "2. Bergers equation"
   ]
  },
  {
   "cell_type": "markdown",
   "metadata": {},
   "source": [
    "### 1. The 1D diffusion equation:\n",
    "\n",
    "$$\\frac{\\partial u}{\\partial t}= \\nu \\frac{\\partial^2 u}{\\partial x^2}$$\n"
   ]
  },
  {
   "cell_type": "markdown",
   "metadata": {},
   "source": [
    "Review - numerical differentiation for second derivatives"
   ]
  },
  {
   "cell_type": "markdown",
   "metadata": {},
   "source": [
    "\n",
    "$$\\frac{\\partial ^2 u}{\\partial x^2}=\\frac{u_{i+1}-2u_{i}+u_{i-1}}{\\Delta x^2} + O(\\Delta x^2)$$\n"
   ]
  },
  {
   "cell_type": "markdown",
   "metadata": {},
   "source": [
    "Discretized 1D diffusion equation:"
   ]
  },
  {
   "cell_type": "markdown",
   "metadata": {},
   "source": [
    "\n",
    "$$\\frac{u_{i}^{n+1}-u_{i}^{n}}{\\Delta t}=\\nu\\frac{u_{i+1}^{n}-2u_{i}^{n}+u_{i-1}^{n}}{\\Delta x^2}$$\n",
    "\n",
    "Solve for $ u_{i}^{n+1} $\n",
    "\n",
    "$$u_{i}^{n+1}=u_{i}^{n}+\\frac{\\nu\\Delta t}{\\Delta x^2}(u_{i+1}^{n}-2u_{i}^{n}+u_{i-1}^{n})$$\n",
    "\n",
    "Both initial condition and boundary condtion are need for solving the difference equation. <br>\n",
    "\n",
    "Let $t=0$, $u=2$ in the interval $0.4d\\le x\\le 0.6d$ and $u=0.5$ everywhere else in the domain [0,d], d is the length of the domain."
   ]
  },
  {
   "cell_type": "code",
   "execution_count": 4,
   "metadata": {
    "collapsed": false
   },
   "outputs": [],
   "source": [
    "import numpy as np           \n",
    "import matplotlib.pyplot as plt\n",
    "\n",
    "%matplotlib inline\n",
    "\n",
    "total_distance=10\n",
    "total_time=0.5\n",
    "\n",
    "def diffusion_eq(dx,dt):\n",
    "    nx = int(total_distance/dx)+1   #number of grid points in the 1d domain\n",
    "    nt = int(total_time/dt)   # total time steps, total time is nt*dt\n",
    "    x=np.linspace(0,total_distance,nx)\n",
    "    u=np.empty((nt,nx),dtype= np.float64)\n",
    "    u[0,:]=0.5\n",
    "    for i in range(nx):\n",
    "        if x[i]>=0.4*total_distance and x[i]<=0.6*total_distance : u[0,i]=2.0\n",
    "\n",
    "    for n in range(1,nt):  # time steps n=1 to nt-1\n",
    "        for i in range(1, nx-1): \n",
    "            u[n,i] = u[n-1,i] + (u[n-1,i+1] -2*u[n-1,i]+u[n-1,i-1])*dt/dx**2\n",
    "        u[n,nx-1] = u[n,nx-2] \n",
    "        u[n,0]= u[n,1]\n",
    "    plt.subplot(3,1,1)\n",
    "    plt.plot(x, u[0,:]) # plot the inital condition\n",
    "    plt.subplot(3,1,2)\n",
    "    plt.plot(x,u[n-1,:]) # plot the solution at t=nt*dt\n",
    "    plt.subplot(3,1,3)\n",
    "    plt.imshow(u.transpose())\n",
    "    plt.tight_layout()"
   ]
  },
  {
   "cell_type": "code",
   "execution_count": 5,
   "metadata": {},
   "outputs": [
    {
     "data": {
      "image/png": "[encoded data removed]",
      "text/plain": [
       "<Figure size 432x288 with 3 Axes>"
      ]
     },
     "metadata": {
      "needs_background": "light"
     },
     "output_type": "display_data"
    }
   ],
   "source": [
    "diffusion_eq(0.1,0.0001)"
   ]
  },
  {
   "cell_type": "markdown",
   "metadata": {},
   "source": [
    "### 2. Burgers' equation"
   ]
  },
  {
   "cell_type": "markdown",
   "metadata": {},
   "source": [
    "1D Burgers' equation:\n",
    "\n",
    "$$\\frac{\\partial u}{\\partial t} + u \\frac{\\partial u}{\\partial x} = \\nu \\frac{\\partial ^2u}{\\partial x^2}$$\n",
    "\n",
    "it is a combination of convection and diffusion equations. \n",
    "\n",
    "Using forward difference for time, backward difference for space and our 2nd-order method for the second derivatives yields:\n",
    "\n",
    "$$\\frac{u_i^{n+1}-u_i^n}{\\Delta t} + u_i^n \\frac{u_i^n - u_{i-1}^n}{\\Delta x} = \\nu \\frac{u_{i+1}^n - 2u_i^n + u_{i-1}^n}{\\Delta x^2}$$\n",
    "\n",
    "once we have an initial condition, the only unknown is $u_i^{n+1}$. We will step in time as follows:\n",
    "\n",
    "$$u_i^{n+1} = u_i^n - u_i^n \\frac{\\Delta t}{\\Delta x} (u_i^n - u_{i-1}^n) + \\nu \\frac{\\Delta t}{\\Delta x^2}(u_{i+1}^n - 2u_i^n + u_{i-1}^n)$$"
   ]
  },
  {
   "cell_type": "code",
   "execution_count": 7,
   "metadata": {},
   "outputs": [],
   "source": [
    "import numpy as np           \n",
    "import matplotlib.pyplot as plt\n",
    "\n",
    "%matplotlib inline\n",
    "\n",
    "total_distance=10\n",
    "total_time=0.5\n",
    "\n",
    "def burgers_eq(dx,dt):\n",
    "    nx = int(total_distance/dx)+1   #number of grid points in the 1d domain\n",
    "    nt = int(total_time/dt)   # total time steps, total time is nt*dt\n",
    "    x=np.linspace(0,total_distance,nx)\n",
    "    u=np.empty((nt,nx),dtype= np.float64)\n",
    "    u[0,:]=0.5\n",
    "    u[:,0]=0.5\n",
    "    for i in range(nx):\n",
    "        if x[i]>=0.4*total_distance and x[i]<=0.6*total_distance : u[0,i]=2.0\n",
    "\n",
    "    for n in range(1,nt):  # time steps n=1 to nt-1\n",
    "        for i in range(1, nx-1): \n",
    "            u[n,i] = u[n-1,i] - u[n-1,i]*(u[n-1,i]-u[n-1,i-1])*dt/dx+ (u[n-1,i+1] -2*u[n-1,i]+u[n-1,i-1])*dt/dx**2\n",
    "        u[n,nx-1] = u[n,nx-2] \n",
    " \n",
    "    plt.subplot(3,1,1)\n",
    "    plt.plot(x, u[0,:]) # plot the inital condition\n",
    "    plt.subplot(3,1,2)\n",
    "    plt.plot(x,u[n-1,:]) # plot the solution at t=nt*dt\n",
    "    plt.subplot(3,1,3)\n",
    "    plt.imshow(u.transpose())\n",
    "    plt.tight_layout()"
   ]
  },
  {
   "cell_type": "code",
   "execution_count": 8,
   "metadata": {},
   "outputs": [
    {
     "data": {
      "image/png": "[encoded data removed]",
      "text/plain": [
       "<Figure size 432x288 with 3 Axes>"
      ]
     },
     "metadata": {
      "needs_background": "light"
     },
     "output_type": "display_data"
    }
   ],
   "source": [
    "burgers_eq(0.1,0.0001)"
   ]
  }
 ],
 "metadata": {
  "kernelspec": {
   "display_name": "Python 3",
   "language": "python",
   "name": "python3"
  },
  "language_info": {
   "codemirror_mode": {
    "name": "ipython",
    "version": 3
   },
   "file_extension": ".py",
   "mimetype": "text/x-python",
   "name": "python",
   "nbconvert_exporter": "python",
   "pygments_lexer": "ipython3",
   "version": "3.10.12"
  }
 },
 "nbformat": 4,
 "nbformat_minor": 0
}
